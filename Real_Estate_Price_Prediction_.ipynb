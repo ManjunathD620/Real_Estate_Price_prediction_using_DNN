{
  "nbformat": 4,
  "nbformat_minor": 0,
  "metadata": {
    "colab": {
      "name": "Real Estate Price Prediction .ipynb",
      "provenance": [],
      "collapsed_sections": [],
      "include_colab_link": true
    },
    "kernelspec": {
      "name": "python3",
      "display_name": "Python 3"
    },
    "language_info": {
      "name": "python"
    }
  },
  "cells": [
    {
      "cell_type": "markdown",
      "metadata": {
        "id": "view-in-github",
        "colab_type": "text"
      },
      "source": [
        "<a href=\"https://colab.research.google.com/github/ManjunathD620/Real_Estate_Price_prediction_using_DNN/blob/main/Real_Estate_Price_Prediction_.ipynb\" target=\"_parent\"><img src=\"https://colab.research.google.com/assets/colab-badge.svg\" alt=\"Open In Colab\"/></a>"
      ]
    },
    {
      "cell_type": "code",
      "metadata": {
        "colab": {
          "base_uri": "https://localhost:8080/",
          "height": 223
        },
        "id": "-Xgcc7kzEHdV",
        "outputId": "d8c74af7-3ca8-42c2-81b8-9af9c70b7531"
      },
      "source": [
        "import pandas as pd\n",
        "\n",
        "data = pd.read_csv(\"/content/Real estate.csv\")\n",
        "data.head()"
      ],
      "execution_count": null,
      "outputs": [
        {
          "output_type": "execute_result",
          "data": {
            "text/html": [
              "<div>\n",
              "<style scoped>\n",
              "    .dataframe tbody tr th:only-of-type {\n",
              "        vertical-align: middle;\n",
              "    }\n",
              "\n",
              "    .dataframe tbody tr th {\n",
              "        vertical-align: top;\n",
              "    }\n",
              "\n",
              "    .dataframe thead th {\n",
              "        text-align: right;\n",
              "    }\n",
              "</style>\n",
              "<table border=\"1\" class=\"dataframe\">\n",
              "  <thead>\n",
              "    <tr style=\"text-align: right;\">\n",
              "      <th></th>\n",
              "      <th>No</th>\n",
              "      <th>X1 transaction date</th>\n",
              "      <th>X2 house age</th>\n",
              "      <th>X3 distance to the nearest MRT station</th>\n",
              "      <th>X4 number of convenience stores</th>\n",
              "      <th>X5 latitude</th>\n",
              "      <th>X6 longitude</th>\n",
              "      <th>Y house price of unit area</th>\n",
              "    </tr>\n",
              "  </thead>\n",
              "  <tbody>\n",
              "    <tr>\n",
              "      <th>0</th>\n",
              "      <td>1</td>\n",
              "      <td>2012.917</td>\n",
              "      <td>32.0</td>\n",
              "      <td>84.87882</td>\n",
              "      <td>10</td>\n",
              "      <td>24.98298</td>\n",
              "      <td>121.54024</td>\n",
              "      <td>37.9</td>\n",
              "    </tr>\n",
              "    <tr>\n",
              "      <th>1</th>\n",
              "      <td>2</td>\n",
              "      <td>2012.917</td>\n",
              "      <td>19.5</td>\n",
              "      <td>306.59470</td>\n",
              "      <td>9</td>\n",
              "      <td>24.98034</td>\n",
              "      <td>121.53951</td>\n",
              "      <td>42.2</td>\n",
              "    </tr>\n",
              "    <tr>\n",
              "      <th>2</th>\n",
              "      <td>3</td>\n",
              "      <td>2013.583</td>\n",
              "      <td>13.3</td>\n",
              "      <td>561.98450</td>\n",
              "      <td>5</td>\n",
              "      <td>24.98746</td>\n",
              "      <td>121.54391</td>\n",
              "      <td>47.3</td>\n",
              "    </tr>\n",
              "    <tr>\n",
              "      <th>3</th>\n",
              "      <td>4</td>\n",
              "      <td>2013.500</td>\n",
              "      <td>13.3</td>\n",
              "      <td>561.98450</td>\n",
              "      <td>5</td>\n",
              "      <td>24.98746</td>\n",
              "      <td>121.54391</td>\n",
              "      <td>54.8</td>\n",
              "    </tr>\n",
              "    <tr>\n",
              "      <th>4</th>\n",
              "      <td>5</td>\n",
              "      <td>2012.833</td>\n",
              "      <td>5.0</td>\n",
              "      <td>390.56840</td>\n",
              "      <td>5</td>\n",
              "      <td>24.97937</td>\n",
              "      <td>121.54245</td>\n",
              "      <td>43.1</td>\n",
              "    </tr>\n",
              "  </tbody>\n",
              "</table>\n",
              "</div>"
            ],
            "text/plain": [
              "   No  X1 transaction date  ...  X6 longitude  Y house price of unit area\n",
              "0   1             2012.917  ...     121.54024                        37.9\n",
              "1   2             2012.917  ...     121.53951                        42.2\n",
              "2   3             2013.583  ...     121.54391                        47.3\n",
              "3   4             2013.500  ...     121.54391                        54.8\n",
              "4   5             2012.833  ...     121.54245                        43.1\n",
              "\n",
              "[5 rows x 8 columns]"
            ]
          },
          "metadata": {},
          "execution_count": 5
        }
      ]
    },
    {
      "cell_type": "code",
      "metadata": {
        "colab": {
          "base_uri": "https://localhost:8080/"
        },
        "id": "8O1VjeJ0EN5D",
        "outputId": "dc04d78a-9b35-41e8-a039-11912c768fd7"
      },
      "source": [
        "data = data.iloc[:, 1:]\n",
        "x = data.drop(\"Y house price of unit area\" ,axis=1).values\n",
        "y = data[\"Y house price of unit area\"].values\n",
        "print(x.shape)\n",
        "print(y.shape)"
      ],
      "execution_count": null,
      "outputs": [
        {
          "output_type": "stream",
          "name": "stdout",
          "text": [
            "(414, 6)\n",
            "(414,)\n"
          ]
        }
      ]
    },
    {
      "cell_type": "code",
      "metadata": {
        "id": "v-yemQj8EgaK"
      },
      "source": [
        "from sklearn.model_selection import train_test_split\n",
        "\n",
        "x_train,x_test,y_train,y_test = train_test_split(x,y,test_size=0.30, random_state=10)"
      ],
      "execution_count": null,
      "outputs": []
    },
    {
      "cell_type": "code",
      "metadata": {
        "id": "_g1kOAy2FBJU"
      },
      "source": [
        "from keras.models import Sequential\n",
        "from keras.layers import Dense\n",
        "\n",
        "model = Sequential()\n",
        "model.add(Dense(1000, input_dim=6, activation=\"relu\"))\n",
        "model.add(Dense(500, activation=\"relu\"))\n",
        "model.add(Dense(300, activation=\"relu\"))\n",
        "model.add(Dense(100, activation=\"relu\"))\n",
        "model.add(Dense(12, activation=\"relu\"))\n",
        "model.add(Dense(1))\n",
        "\n",
        "model.compile(loss=\"mean_squared_error\", optimizer=\"adam\", metrics=[\"mean_squared_error\"])"
      ],
      "execution_count": null,
      "outputs": []
    },
    {
      "cell_type": "code",
      "metadata": {
        "colab": {
          "base_uri": "https://localhost:8080/"
        },
        "id": "tb2wMQkwFoCb",
        "outputId": "828bd042-2499-41e6-97d6-fb1bd1367acd"
      },
      "source": [
        "model.fit(x_train,y_train, epochs=20, batch_size=10,validation_data=(x_test,y_test))"
      ],
      "execution_count": null,
      "outputs": [
        {
          "output_type": "stream",
          "name": "stdout",
          "text": [
            "Epoch 1/20\n",
            "29/29 [==============================] - 0s 13ms/step - loss: 89.3092 - mean_squared_error: 89.3092 - val_loss: 74.4881 - val_mean_squared_error: 74.4881\n",
            "Epoch 2/20\n",
            "29/29 [==============================] - 0s 10ms/step - loss: 76.0779 - mean_squared_error: 76.0779 - val_loss: 76.5144 - val_mean_squared_error: 76.5144\n",
            "Epoch 3/20\n",
            "29/29 [==============================] - 0s 10ms/step - loss: 79.9532 - mean_squared_error: 79.9532 - val_loss: 79.6387 - val_mean_squared_error: 79.6387\n",
            "Epoch 4/20\n",
            "29/29 [==============================] - 0s 10ms/step - loss: 83.5932 - mean_squared_error: 83.5932 - val_loss: 74.4267 - val_mean_squared_error: 74.4267\n",
            "Epoch 5/20\n",
            "29/29 [==============================] - 0s 11ms/step - loss: 80.5771 - mean_squared_error: 80.5771 - val_loss: 86.4248 - val_mean_squared_error: 86.4248\n",
            "Epoch 6/20\n",
            "29/29 [==============================] - 0s 10ms/step - loss: 83.4825 - mean_squared_error: 83.4825 - val_loss: 112.9044 - val_mean_squared_error: 112.9044\n",
            "Epoch 7/20\n",
            "29/29 [==============================] - 0s 12ms/step - loss: 95.2469 - mean_squared_error: 95.2469 - val_loss: 73.5853 - val_mean_squared_error: 73.5853\n",
            "Epoch 8/20\n",
            "29/29 [==============================] - 0s 10ms/step - loss: 81.5791 - mean_squared_error: 81.5791 - val_loss: 102.2804 - val_mean_squared_error: 102.2804\n",
            "Epoch 9/20\n",
            "29/29 [==============================] - 0s 10ms/step - loss: 84.0669 - mean_squared_error: 84.0669 - val_loss: 78.9287 - val_mean_squared_error: 78.9287\n",
            "Epoch 10/20\n",
            "29/29 [==============================] - 0s 10ms/step - loss: 79.6978 - mean_squared_error: 79.6978 - val_loss: 74.2351 - val_mean_squared_error: 74.2351\n",
            "Epoch 11/20\n",
            "29/29 [==============================] - 0s 10ms/step - loss: 79.5520 - mean_squared_error: 79.5520 - val_loss: 75.8461 - val_mean_squared_error: 75.8461\n",
            "Epoch 12/20\n",
            "29/29 [==============================] - 0s 11ms/step - loss: 75.0052 - mean_squared_error: 75.0052 - val_loss: 119.5876 - val_mean_squared_error: 119.5876\n",
            "Epoch 13/20\n",
            "29/29 [==============================] - 0s 10ms/step - loss: 92.9307 - mean_squared_error: 92.9307 - val_loss: 81.8138 - val_mean_squared_error: 81.8138\n",
            "Epoch 14/20\n",
            "29/29 [==============================] - 0s 10ms/step - loss: 83.0011 - mean_squared_error: 83.0011 - val_loss: 91.0596 - val_mean_squared_error: 91.0596\n",
            "Epoch 15/20\n",
            "29/29 [==============================] - 0s 10ms/step - loss: 80.4313 - mean_squared_error: 80.4313 - val_loss: 72.9665 - val_mean_squared_error: 72.9665\n",
            "Epoch 16/20\n",
            "29/29 [==============================] - 0s 9ms/step - loss: 78.7222 - mean_squared_error: 78.7222 - val_loss: 77.6186 - val_mean_squared_error: 77.6186\n",
            "Epoch 17/20\n",
            "29/29 [==============================] - 0s 11ms/step - loss: 77.2151 - mean_squared_error: 77.2151 - val_loss: 75.4983 - val_mean_squared_error: 75.4983\n",
            "Epoch 18/20\n",
            "29/29 [==============================] - 0s 12ms/step - loss: 80.2529 - mean_squared_error: 80.2529 - val_loss: 84.0039 - val_mean_squared_error: 84.0039\n",
            "Epoch 19/20\n",
            "29/29 [==============================] - 0s 10ms/step - loss: 77.6057 - mean_squared_error: 77.6057 - val_loss: 73.0313 - val_mean_squared_error: 73.0313\n",
            "Epoch 20/20\n",
            "29/29 [==============================] - 0s 10ms/step - loss: 76.6811 - mean_squared_error: 76.6811 - val_loss: 77.8382 - val_mean_squared_error: 77.8382\n"
          ]
        },
        {
          "output_type": "execute_result",
          "data": {
            "text/plain": [
              "<keras.callbacks.History at 0x7fdee0af1690>"
            ]
          },
          "metadata": {},
          "execution_count": 27
        }
      ]
    },
    {
      "cell_type": "code",
      "metadata": {
        "id": "kgHOSAMUV2c8",
        "outputId": "3cf1a282-ee95-4aea-c7a5-39ad89d9e27e",
        "colab": {
          "base_uri": "https://localhost:8080/"
        }
      },
      "source": [
        "model.evaluate(x_test,y_test)"
      ],
      "execution_count": null,
      "outputs": [
        {
          "output_type": "stream",
          "name": "stdout",
          "text": [
            "4/4 [==============================] - 0s 5ms/step - loss: 77.8383 - mean_squared_error: 77.8383\n"
          ]
        },
        {
          "output_type": "execute_result",
          "data": {
            "text/plain": [
              "[77.8382568359375, 77.8382568359375]"
            ]
          },
          "metadata": {},
          "execution_count": 28
        }
      ]
    },
    {
      "cell_type": "code",
      "metadata": {
        "colab": {
          "base_uri": "https://localhost:8080/"
        },
        "id": "bpwe6_R4GAfi",
        "outputId": "54d954b3-aa59-4266-9ae5-6d599ec6887d"
      },
      "source": [
        "import random\n",
        "import numpy as np\n",
        "\n",
        "rand = random.randint(0,x_test.shape[0])\n",
        "subject = x_test[rand]\n",
        "subject = np.expand_dims(subject,axis=0)\n",
        "prediction = model.predict(subject)\n",
        "print(\"Predicted = \"+str(round(prediction[0][0]))+\"\\n\"+\"actual = \"+str(y_test[rand]))"
      ],
      "execution_count": null,
      "outputs": [
        {
          "output_type": "stream",
          "name": "stdout",
          "text": [
            "Predicted = 36\n",
            "actual = 40.8\n"
          ]
        }
      ]
    }
  ]
}